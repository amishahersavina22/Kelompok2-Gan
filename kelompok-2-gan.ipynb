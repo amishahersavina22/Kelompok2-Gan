{
 "cells": [
  {
   "cell_type": "markdown",
   "id": "e2ac52ca-3611-4983-9fc9-f6a9507f3246",
   "metadata": {},
   "source": [
    "# Implementasi Generative Adversarial Network (GAN)\n",
    "## Kelompok 2\n",
    "\n",
    "\n",
    "**Dataset**: MNIST  \n",
    "**Framework**: PyTorch\n",
    "\n",
    "### Apa itu GAN?\n",
    "Generative Adversarial Network (GAN) adalah model jaringan saraf tiruan yang digunakan untuk menghasilkan data baru yang memiliki karakteristik mirip dengan data asli.\n",
    "GAN diperkenalkan oleh Ian Goodfellow dan rekan-rekannya pada tahun 2014.\n",
    "GAN bekerja dengan konsep persaingan (adversarial) antara dua model neural network:\n",
    "- Generator (G) → berperan menghasilkan data palsu yang realistis.\n",
    "- Discriminator (D) → berperan membedakan antara data asli dan data palsu.\n",
    "\n",
    "### Komponen Utama dalam GAN\n",
    "### A. Generator(G)\n",
    "\n",
    "Generator adalah bagian dari GAN yang bertugas membuat data palsu yang meniru data asli. Generator bekerja dengan cara:\n",
    "- Menerima input berupa noise (vektor angka acak).\n",
    "- Mengubah noise ini menjadi data sintetis melalui jaringan saraf tiruan (neural network).\n",
    "- Menghasilkan data yang memiliki pola mirip dengan data asli agar sulit dibedakan oleh Discriminator.\n",
    "\n",
    "### Tujuan Generator\n",
    "- Menipu Discriminator dengan membuat data yang terlihat realistis.\n",
    "- Menciptakan variasi data baru berdasarkan distribusi data asli.\n",
    "- Meningkatkan kualitas data sintetis seiring proses pelatihan.\n",
    "\n",
    "### Cara Kerja Sederhana\n",
    "- Generator memulai dari angka acak seperti [0.12, -0.45, 0.33, ...].\n",
    "- Angka ini diproses lewat lapisan-lapisan jaringan saraf (fully connected, convolution, dll).\n",
    "- Output yang dihasilkan adalah gambar, audio, teks, atau bentuk data lain yang mirip data asli.\n",
    "\n",
    "### Analoginya\n",
    "Bayangkan Generator sebagai pemalsu:\n",
    "- Dia mulai dari kertas kosong (noise).\n",
    "- Sedikit demi sedikit dia belajar meniru uang asli (data asli) berdasarkan umpan balik dari polisi (Discriminator).\n",
    "- Lama-lama, uang palsu buatan Generator terlihat sangat mirip dengan uang asli.\n",
    "\n",
    "### Contoh Generator\n",
    "Misalnya kita melatih GAN untuk menghasilkan gambar wajah manusia:\n",
    "- Input: noise acak seperti [0.27, -0.84, 0.59, ...].\n",
    "- Proses: Generator menggunakan lapisan Convolutional Neural Network (CNN) untuk membentuk pola mata, hidung, mulut, dan tekstur kulit.\n",
    "- Output: gambar wajah fiktif yang tidak ada di dunia nyata, tapi terlihat realistis.\n",
    "\n",
    "📌 Contoh nyatanya: *Situs This Person Does Not Exist* — setiap kali dibuka, Generator akan membuat wajah baru yang tidak pernah ada sebelumnya.\n",
    "\n",
    "### B. Discriminator (D)\n",
    "Discriminator adalah bagian dari GAN yang bertugas membedakan mana data asli dari dataset dan mana data palsu hasil Generator.\n",
    "Bisa dibilang, Discriminator adalah model klasifikasi biner (dua kelas: asli atau palsu).\n",
    "\n",
    "### Fungsi Utama\n",
    "- Memeriksa setiap data yang masuk (baik dari dataset asli maupun hasil Generator).\n",
    "- Menghasilkan nilai probabilitas antara 0–1:\n",
    "    - Nilai mendekati 1 → data dianggap asli.\n",
    "    - Nilai mendekati 0 → data dianggap palsu.\n",
    "- Memberikan feedback ke Generator supaya Generator belajar membuat data yang lebih sulit dikenali.\n",
    "\n",
    "### Cara Kerja Discriminator\n",
    "- Input: Discriminator menerima satu data (misalnya gambar).\n",
    "- Proses: Data tersebut diproses melalui jaringan saraf (biasanya CNN untuk gambar).\n",
    "- Output: Probabilitas apakah data tersebut asli atau palsu.\n",
    "\n",
    "### Analoginya\n",
    "Bayangkan Discriminator sebagai polisi ahli forensik:\n",
    "- Polisi memeriksa uang.\n",
    "- Jika ciri-cirinya cocok dengan uang asli → \"Asli\".\n",
    "- Jika ada yang aneh → \"Palsu\".\n",
    "- Setiap kali polisi salah, dia belajar supaya lebih pintar mendeteksi.\n",
    "\n",
    "### Contoh Discriminator\n",
    "Misalnya kita melatih GAN untuk menghasilkan gambar kucing:\n",
    "- Input 1: Gambar kucing asli dari dataset.\n",
    "- Input 2: Gambar kucing palsu dari Generator.\n",
    "- Proses: Discriminator menganalisis pola bulu, bentuk mata, telinga, warna.\n",
    "- Output:\n",
    "    - Gambar asli → probabilitas tinggi (misalnya 0.95).\n",
    "    - Gambar palsu → probabilitas rendah (misalnya 0.15).\n",
    "\n",
    "### Hubungan dengan Generator\n",
    "- Discriminator membuat Generator menjadi lebih baik karena setiap kali Generator gagal menipu Discriminator, Generator akan memperbaiki hasilnya.\n",
    "\n",
    "- Pertarungan ini berlanjut sampai Discriminator kesulitan membedakan antara data asli dan palsu.\n",
    "\n",
    "### Kesimpulan \n",
    "Generative Adversarial Network (GAN) adalah arsitektur jaringan saraf tiruan yang menggunakan dua model yang saling berlawanan, yaitu Generator dan Discriminator, untuk menghasilkan data baru yang mirip dengan data asli.\n",
    "- Generator bertugas membuat data palsu dari input berupa noise acak, dengan tujuan menipu Discriminator.\n",
    "- Discriminator bertugas membedakan data asli dan data palsu, memberikan umpan balik agar Generator semakin baik.\n",
    "\n",
    "Proses pelatihan GAN bersifat seperti pertarungan dua pemain: Generator terus belajar membuat data yang realistis, sementara Discriminator terus belajar mengenali data palsu. Pertarungan ini akan menghasilkan Generator yang sangat mahir hingga data buatannya sulit dibedakan dari data asli.\n",
    "\n",
    "GAN telah terbukti bermanfaat di berbagai bidang, seperti pembuatan gambar realistis, peningkatan resolusi gambar (super-resolution), image-to-image translation, deepfake, dan generasi seni digital. Namun, GAN juga memiliki tantangan seperti pelatihan yang sulit dan risiko mode collapse.\n",
    "\n",
    "Dengan memahami peran Generator dan Discriminator, kita bisa memanfaatkan GAN secara optimal untuk inovasi di bidang visual, audio, dan data sintetis lainnya.\n"
   ]
  },
  {
   "cell_type": "code",
   "execution_count": 1,
   "id": "8a374d2d-cb8f-4832-9e8a-2340a065adf2",
   "metadata": {
    "execution": {
     "iopub.execute_input": "2025-07-15T04:45:48.830808Z",
     "iopub.status.busy": "2025-07-15T04:45:48.830657Z",
     "iopub.status.idle": "2025-07-15T04:45:56.299512Z",
     "shell.execute_reply": "2025-07-15T04:45:56.298966Z",
     "shell.execute_reply.started": "2025-07-15T04:45:48.830794Z"
    },
    "trusted": true
   },
   "outputs": [],
   "source": [
    "# Import library\n",
    "import torch\n",
    "import torch.nn as nn\n",
    "import torch.optim as optim\n",
    "from torchvision import datasets, transforms\n",
    "import torchvision   # ← tambahkan baris ini\n",
    "from torch.utils.data import DataLoader\n",
    "import matplotlib.pyplot as plt\n",
    "import os\n",
    "\n",
    "\n",
    "# Buat folder untuk menyimpan hasil\n",
    "os.makedirs('generated_images', exist_ok=True)\n",
    "os.makedirs('models', exist_ok=True)\n"
   ]
  },
  {
   "cell_type": "markdown",
   "id": "312545b9-d83d-4828-a80c-c4a8f1992ef1",
   "metadata": {},
   "source": [
    "## Load Dataset MNIST\n"
   ]
  },
  {
   "cell_type": "code",
   "execution_count": 2,
   "id": "e1d02683-f64d-4aed-abbe-77bed77ec8d5",
   "metadata": {
    "execution": {
     "iopub.execute_input": "2025-07-15T04:46:07.560766Z",
     "iopub.status.busy": "2025-07-15T04:46:07.560027Z",
     "iopub.status.idle": "2025-07-15T04:46:11.516796Z",
     "shell.execute_reply": "2025-07-15T04:46:11.515761Z",
     "shell.execute_reply.started": "2025-07-15T04:46:07.560727Z"
    },
    "trusted": true
   },
   "outputs": [
    {
     "name": "stderr",
     "output_type": "stream",
     "text": [
      "100%|██████████| 9.91M/9.91M [00:00<00:00, 17.0MB/s]\n",
      "100%|██████████| 28.9k/28.9k [00:00<00:00, 455kB/s]\n",
      "100%|██████████| 1.65M/1.65M [00:00<00:00, 4.27MB/s]\n",
      "100%|██████████| 4.54k/4.54k [00:00<00:00, 9.64MB/s]\n"
     ]
    }
   ],
   "source": [
    "transform = transforms.Compose([\n",
    "    transforms.ToTensor(),\n",
    "    transforms.Normalize((0.5,), (0.5,))  # range -1 sampai 1\n",
    "])\n",
    "\n",
    "batch_size = 128\n",
    "dataloader = DataLoader(\n",
    "    datasets.MNIST('.', train=True, download=True, transform=transform),\n",
    "    batch_size=batch_size, shuffle=True\n",
    ")\n"
   ]
  },
  {
   "cell_type": "markdown",
   "id": "ad8e59f3-3d68-4bd2-86e3-5d976da0b7e8",
   "metadata": {},
   "source": [
    "## Buat Generator & Discriminator\n",
    " Penjelasan Generator\n",
    " \n",
    " Penjelasan Discriminator\n"
   ]
  },
  {
   "cell_type": "code",
   "execution_count": 5,
   "id": "be6f3021-32f3-4340-b616-6a171f77e956",
   "metadata": {
    "execution": {
     "iopub.execute_input": "2025-07-15T04:46:35.614251Z",
     "iopub.status.busy": "2025-07-15T04:46:35.613551Z",
     "iopub.status.idle": "2025-07-15T04:46:35.620138Z",
     "shell.execute_reply": "2025-07-15T04:46:35.619286Z",
     "shell.execute_reply.started": "2025-07-15T04:46:35.614224Z"
    },
    "trusted": true
   },
   "outputs": [],
   "source": [
    "class Generator(nn.Module):\n",
    "    def __init__(self):\n",
    "        super(Generator, self).__init__()\n",
    "        self.model = nn.Sequential(\n",
    "            nn.Linear(100, 256),\n",
    "            nn.ReLU(True),\n",
    "            nn.Linear(256, 512),\n",
    "            nn.ReLU(True),\n",
    "            nn.Linear(512, 28*28),\n",
    "            nn.Tanh()\n",
    "        )\n",
    "    def forward(self, z):\n",
    "        img = self.model(z)\n",
    "        return img.view(-1, 1, 28, 28)\n",
    "\n",
    "class Discriminator(nn.Module):\n",
    "    def __init__(self):\n",
    "        super(Discriminator, self).__init__()\n",
    "        self.model = nn.Sequential(\n",
    "            nn.Linear(28*28, 512),\n",
    "            nn.LeakyReLU(0.2, inplace=True),\n",
    "            nn.Linear(512, 256),\n",
    "            nn.LeakyReLU(0.2, inplace=True),\n",
    "            nn.Linear(256, 1),\n",
    "            nn.Sigmoid()\n",
    "        )\n",
    "    def forward(self, img):\n",
    "        flat = img.view(img.size(0), -1)\n",
    "        return self.model(flat)\n"
   ]
  },
  {
   "cell_type": "markdown",
   "id": "83e50e83-b765-459a-b06a-052df6a62767",
   "metadata": {},
   "source": [
    "## Inisialisasi model, loss, dan optimizer\n"
   ]
  },
  {
   "cell_type": "code",
   "execution_count": 14,
   "id": "b47780c7-6c17-4669-b3d6-87fcebb9d13e",
   "metadata": {
    "execution": {
     "iopub.execute_input": "2025-07-15T04:52:51.176295Z",
     "iopub.status.busy": "2025-07-15T04:52:51.175700Z",
     "iopub.status.idle": "2025-07-15T04:52:51.410162Z",
     "shell.execute_reply": "2025-07-15T04:52:51.409383Z",
     "shell.execute_reply.started": "2025-07-15T04:52:51.176263Z"
    },
    "trusted": true
   },
   "outputs": [],
   "source": [
    "device = torch.device(\"cuda\" if torch.cuda.is_available() else \"cpu\")\n",
    "\n",
    "G = Generator().to(device)\n",
    "D = Discriminator().to(device)\n",
    "\n",
    "criterion = nn.BCELoss()\n",
    "lr = 0.0002\n",
    "\n",
    "optimizer_G = optim.Adam(G.parameters(), lr=lr)\n",
    "optimizer_D = optim.Adam(D.parameters(), lr=lr)\n"
   ]
  },
  {
   "cell_type": "markdown",
   "id": "6316d2a8-c5a7-48ad-b3b7-3007c146683d",
   "metadata": {},
   "source": [
    "## Training Loop\n"
   ]
  },
  {
   "cell_type": "code",
   "execution_count": 18,
   "id": "5d264667-4d0b-41b1-b261-6da6f8b45248",
   "metadata": {
    "execution": {
     "iopub.execute_input": "2025-07-15T05:10:58.299457Z",
     "iopub.status.busy": "2025-07-15T05:10:58.298912Z",
     "iopub.status.idle": "2025-07-15T05:20:22.935488Z",
     "shell.execute_reply": "2025-07-15T05:20:22.934625Z",
     "shell.execute_reply.started": "2025-07-15T05:10:58.299435Z"
    },
    "trusted": true
   },
   "outputs": [
    {
     "name": "stdout",
     "output_type": "stream",
     "text": [
      "[Epoch 1/50] Loss G: 2.1508, Loss D: 0.3390\n",
      "[Epoch 2/50] Loss G: 2.0825, Loss D: 0.3463\n",
      "[Epoch 3/50] Loss G: 2.1259, Loss D: 0.3455\n",
      "[Epoch 4/50] Loss G: 2.0974, Loss D: 0.3438\n",
      "[Epoch 5/50] Loss G: 2.1178, Loss D: 0.3473\n",
      "[Epoch 6/50] Loss G: 2.1821, Loss D: 0.3351\n",
      "[Epoch 7/50] Loss G: 2.2843, Loss D: 0.3188\n",
      "[Epoch 8/50] Loss G: 2.5408, Loss D: 0.2900\n",
      "[Epoch 9/50] Loss G: 2.4791, Loss D: 0.3026\n",
      "[Epoch 10/50] Loss G: 2.4916, Loss D: 0.3023\n",
      " Saving sample image at epoch 10\n",
      "[Epoch 11/50] Loss G: 2.4928, Loss D: 0.2908\n",
      "[Epoch 12/50] Loss G: 2.4034, Loss D: 0.3075\n",
      "[Epoch 13/50] Loss G: 2.2473, Loss D: 0.3430\n",
      "[Epoch 14/50] Loss G: 2.1834, Loss D: 0.3429\n",
      "[Epoch 15/50] Loss G: 2.1291, Loss D: 0.3476\n",
      "[Epoch 16/50] Loss G: 2.0728, Loss D: 0.3611\n",
      "[Epoch 17/50] Loss G: 2.0448, Loss D: 0.3644\n",
      "[Epoch 18/50] Loss G: 2.0496, Loss D: 0.3684\n",
      "[Epoch 19/50] Loss G: 1.9861, Loss D: 0.3733\n",
      "[Epoch 20/50] Loss G: 1.9290, Loss D: 0.3739\n",
      " Saving sample image at epoch 20\n",
      "[Epoch 21/50] Loss G: 1.9676, Loss D: 0.3694\n",
      "[Epoch 22/50] Loss G: 1.9308, Loss D: 0.3789\n",
      "[Epoch 23/50] Loss G: 1.9857, Loss D: 0.3695\n",
      "[Epoch 24/50] Loss G: 2.0239, Loss D: 0.3645\n",
      "[Epoch 25/50] Loss G: 2.0550, Loss D: 0.3633\n",
      "[Epoch 26/50] Loss G: 2.0749, Loss D: 0.3586\n",
      "[Epoch 27/50] Loss G: 2.1486, Loss D: 0.3472\n",
      "[Epoch 28/50] Loss G: 2.2070, Loss D: 0.3345\n",
      "[Epoch 29/50] Loss G: 2.3951, Loss D: 0.3089\n",
      "[Epoch 30/50] Loss G: 2.3272, Loss D: 0.3254\n",
      " Saving sample image at epoch 30\n",
      "[Epoch 31/50] Loss G: 2.3144, Loss D: 0.3229\n",
      "[Epoch 32/50] Loss G: 2.2456, Loss D: 0.3426\n",
      "[Epoch 33/50] Loss G: 2.2137, Loss D: 0.3475\n",
      "[Epoch 34/50] Loss G: 2.1216, Loss D: 0.3659\n",
      "[Epoch 35/50] Loss G: 2.0143, Loss D: 0.3790\n",
      "[Epoch 36/50] Loss G: 1.9292, Loss D: 0.3838\n",
      "[Epoch 37/50] Loss G: 1.8958, Loss D: 0.3925\n",
      "[Epoch 38/50] Loss G: 1.8342, Loss D: 0.3943\n",
      "[Epoch 39/50] Loss G: 1.8830, Loss D: 0.3885\n",
      "[Epoch 40/50] Loss G: 1.8889, Loss D: 0.3897\n",
      " Saving sample image at epoch 40\n",
      "[Epoch 41/50] Loss G: 1.8793, Loss D: 0.3899\n",
      "[Epoch 42/50] Loss G: 1.8802, Loss D: 0.3950\n",
      "[Epoch 43/50] Loss G: 1.8128, Loss D: 0.3981\n",
      "[Epoch 44/50] Loss G: 1.7968, Loss D: 0.4034\n",
      "[Epoch 45/50] Loss G: 1.8189, Loss D: 0.3965\n",
      "[Epoch 46/50] Loss G: 1.8203, Loss D: 0.4051\n",
      "[Epoch 47/50] Loss G: 1.8387, Loss D: 0.4014\n",
      "[Epoch 48/50] Loss G: 1.8094, Loss D: 0.3974\n",
      "[Epoch 49/50] Loss G: 1.8627, Loss D: 0.3978\n",
      "[Epoch 50/50] Loss G: 1.8690, Loss D: 0.3861\n",
      " Saving sample image at epoch 50\n",
      " Training selesai. Model & gambar sample sudah disimpan.\n"
     ]
    }
   ],
   "source": [
    "num_epochs = 50\n",
    "loss_G_history, loss_D_history = [], []\n",
    "\n",
    "for epoch in range(1, num_epochs+1):\n",
    "    loss_G_epoch, loss_D_epoch = 0, 0\n",
    "    for real_imgs, _ in dataloader:\n",
    "        real_imgs = real_imgs.to(device)\n",
    "        batch_size = real_imgs.size(0)\n",
    "\n",
    "        # Label real=1, fake=0\n",
    "        valid = torch.ones(batch_size, 1, device=device)\n",
    "        fake = torch.zeros(batch_size, 1, device=device)\n",
    "\n",
    "        ## Train Generator\n",
    "        optimizer_G.zero_grad()\n",
    "        z = torch.randn(batch_size, 100, device=device)\n",
    "        gen_imgs = G(z)\n",
    "        pred_fake = D(gen_imgs)\n",
    "        loss_G = criterion(pred_fake, valid)\n",
    "        loss_G.backward()\n",
    "        optimizer_G.step()\n",
    "\n",
    "        ## Train Discriminator\n",
    "        optimizer_D.zero_grad()\n",
    "        pred_real = D(real_imgs)\n",
    "        loss_real = criterion(pred_real, valid)\n",
    "\n",
    "        pred_fake = D(gen_imgs.detach())\n",
    "        loss_fake = criterion(pred_fake, fake)\n",
    "\n",
    "        loss_D = (loss_real + loss_fake) / 2\n",
    "        loss_D.backward()\n",
    "        optimizer_D.step()\n",
    "\n",
    "        loss_G_epoch += loss_G.item()\n",
    "        loss_D_epoch += loss_D.item()\n",
    "\n",
    "    # Simpan history loss\n",
    "    loss_G_history.append(loss_G_epoch / len(dataloader))\n",
    "    loss_D_history.append(loss_D_epoch / len(dataloader))\n",
    "\n",
    "    print(f\"[Epoch {epoch}/{num_epochs}] Loss G: {loss_G_history[-1]:.4f}, Loss D: {loss_D_history[-1]:.4f}\")\n",
    "\n",
    "    # Simpan gambar setiap 10 epoch\n",
    "    if epoch % 10 == 0:\n",
    "        print(f\" Saving sample image at epoch {epoch}\")\n",
    "        with torch.no_grad():\n",
    "            z = torch.randn(25, 100, device=device)\n",
    "            samples = G(z).cpu()\n",
    "            grid = torchvision.utils.make_grid(samples, nrow=5, normalize=True)\n",
    "            plt.figure(figsize=(5,5))\n",
    "            plt.imshow(grid.permute(1, 2, 0).numpy())\n",
    "            plt.axis('off')\n",
    "            plt.savefig(f\"generated_images/epoch_{epoch}.png\")\n",
    "            plt.close()\n",
    "\n",
    "# Simpan model setelah training selesai\n",
    "torch.save(G.state_dict(), \"models/generator.pth\")\n",
    "torch.save(D.state_dict(), \"models/discriminator.pth\")\n",
    "\n",
    "print(\" Training selesai. Model & gambar sample sudah disimpan.\")\n"
   ]
  },
  {
   "cell_type": "markdown",
   "id": "624f2baa",
   "metadata": {},
   "source": [
    "**penjelasan Training Loop**\n",
    "\n",
    "training pada GAN melibatkan dua model: Generator dan Discriminator\n",
    "\n",
    "adapun pada setiap epoch terdiri dari:\n",
    "- melatih Discriminator dengan mengambil real images, membuat fake images, menghitung loss Discriminator dan meng-update kinerjanya di epoch berikutnya\n",
    "- melatih Generator dengan membuat fake images lagi dari noise, memberi label 1 pada fake images untuk mengecoh Discriminator, dan meng-update kinerjanya di epoch berikutnya\n",
    "- menyimpan nilai loss dari Generator dan Discriminator untuk visualisasi grafik training\n",
    "- menyimpan hasil gambar Generator setiap 10 epoch untuk melihat perkembangan kualitas gambar\n",
    "\n",
    "dengan begitu Discriminator akan lebih baik dalam membedakan dan Generator menjadi lebih pandai 'menipu' Discriminator\n"
   ]
  },
  {
   "cell_type": "markdown",
   "id": "23ffa399",
   "metadata": {},
   "source": [
    "**perkembangan gambar dari Generator hasil training**\n",
    "\n",
    "- epoch 10 : gambar masih sangat kabur, bentuk angka belum terlihat jelas.\n",
    "- epoch 20 : banyak gambar tampak mirip satu sama lain (mode collapse), bentuk angka tidak beragam.\n",
    "- epoch 30 : bentuk angka mulai terlihat, meskipun noise masih tinggi.\n",
    "- epoch 40 : bentuk digit makin jelas, variasi angka lebih baik, dan noise mulai berkurang.\n",
    "- epoch 50 : sebagian besar angka sudah menyerupai digit MNIST, menunjukkan Generator mulai berhasil menangkap pola distribusi data.\n",
    "\n",
    "Hasil ini menunjukkan bahwa training GAN berhasil mengajarkan Generator untuk menghasilkan angka tangan yang semakin realistis dari waktu ke waktu."
   ]
  },
  {
   "cell_type": "markdown",
   "id": "cd1c7415-f969-4dae-8b9a-bb3fdf6f43b1",
   "metadata": {},
   "source": [
    "## Visualisasi Loss"
   ]
  },
  {
   "cell_type": "code",
   "execution_count": 19,
   "id": "c0f71e2e-b7eb-4b41-b8d7-bf140fc60ef9",
   "metadata": {
    "execution": {
     "iopub.execute_input": "2025-07-15T05:23:10.059149Z",
     "iopub.status.busy": "2025-07-15T05:23:10.058840Z",
     "iopub.status.idle": "2025-07-15T05:23:10.313184Z",
     "shell.execute_reply": "2025-07-15T05:23:10.312329Z",
     "shell.execute_reply.started": "2025-07-15T05:23:10.059127Z"
    },
    "trusted": true
   },
   "outputs": [
    {
     "data": {
      "image/png": "[encoded data removed]",
      "text/plain": [
       "<Figure size 1000x500 with 1 Axes>"
      ]
     },
     "metadata": {},
     "output_type": "display_data"
    }
   ],
   "source": [
    "plt.figure(figsize=(10,5))\n",
    "plt.plot(loss_G_history, label='Generator Loss')\n",
    "plt.plot(loss_D_history, label='Discriminator Loss')\n",
    "plt.legend()\n",
    "plt.title('Loss Selama Training')\n",
    "plt.xlabel('Epoch')\n",
    "plt.ylabel('Loss')\n",
    "plt.show()\n"
   ]
  }
 ],
 "metadata": {
  "kaggle": {
   "accelerator": "gpu",
   "dataSources": [],
   "dockerImageVersionId": 31089,
   "isGpuEnabled": true,
   "isInternetEnabled": true,
   "language": "python",
   "sourceType": "notebook"
  },
  "kernelspec": {
   "display_name": "Python 3",
   "language": "python",
   "name": "python3"
  },
  "language_info": {
   "codemirror_mode": {
    "name": "ipython",
    "version": 3
   },
   "file_extension": ".py",
   "mimetype": "text/x-python",
   "name": "python",
   "nbconvert_exporter": "python",
   "pygments_lexer": "ipython3",
   "version": "3.11.9"
  }
 },
 "nbformat": 4,
 "nbformat_minor": 5
}
